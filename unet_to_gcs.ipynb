{
 "cells": [
  {
   "cell_type": "code",
   "execution_count": 2,
   "id": "3310da7e-f458-4cb0-bd92-7a2c473b70a8",
   "metadata": {},
   "outputs": [],
   "source": [
    "# Create GCS\n",
    "import xarray as xr\n",
    "import zarr"
   ]
  },
  {
   "cell_type": "code",
   "execution_count": 5,
   "id": "141dde2c-48f6-4c81-b9d5-a97d2cb79724",
   "metadata": {},
   "outputs": [],
   "source": [
    "def return_label(train_year, train_range):\n",
    "    zarr_label = f'{train_year}_{train_range}'  # later passed to create_zarr as zarr file name\n",
    "    zarr_label = f'{zarr_label}_full_2days'\n",
    "\n",
    "    return zarr_label"
   ]
  },
  {
   "cell_type": "code",
   "execution_count": 6,
   "id": "fe33eb89-04d0-4865-bafe-9072f0454f5a",
   "metadata": {},
   "outputs": [],
   "source": [
    "datadir = \"/home/jovyan/shared-public/mindthegap/data\"\n",
    "datafeatures = ['u_wind', 'v_wind', 'sst', 'air_temp']\n",
    "train_year = 2015\n",
    "train_range = 3\n",
    "val_range = 1\n",
    "test_range = 1\n",
    "zarr_label = return_label(train_year, train_range)\n",
    "\n",
    "zarr_stdized = xr.open_zarr(zarr.DirectoryStore(f'{datadir}/{zarr_label}.zarr'))"
   ]
  },
  {
   "cell_type": "code",
   "execution_count": 7,
   "id": "1d0d2fb6-c5e0-4d1b-8913-066d52a1ae07",
   "metadata": {},
   "outputs": [
    {
     "name": "stdout",
     "output_type": "stream",
     "text": [
      "Requirement already satisfied: gcsfs in /srv/conda/envs/notebook/lib/python3.12/site-packages (2024.10.0)\n",
      "Requirement already satisfied: aiohttp!=4.0.0a0,!=4.0.0a1 in /srv/conda/envs/notebook/lib/python3.12/site-packages (from gcsfs) (3.10.10)\n",
      "Requirement already satisfied: decorator>4.1.2 in /srv/conda/envs/notebook/lib/python3.12/site-packages (from gcsfs) (5.1.1)\n",
      "Requirement already satisfied: fsspec==2024.10.0 in /srv/conda/envs/notebook/lib/python3.12/site-packages (from gcsfs) (2024.10.0)\n",
      "Requirement already satisfied: google-auth>=1.2 in /srv/conda/envs/notebook/lib/python3.12/site-packages (from gcsfs) (2.36.0)\n",
      "Requirement already satisfied: google-auth-oauthlib in /srv/conda/envs/notebook/lib/python3.12/site-packages (from gcsfs) (1.2.1)\n",
      "Requirement already satisfied: google-cloud-storage in /srv/conda/envs/notebook/lib/python3.12/site-packages (from gcsfs) (2.18.2)\n",
      "Requirement already satisfied: requests in /srv/conda/envs/notebook/lib/python3.12/site-packages (from gcsfs) (2.32.3)\n",
      "Requirement already satisfied: aiohappyeyeballs>=2.3.0 in /srv/conda/envs/notebook/lib/python3.12/site-packages (from aiohttp!=4.0.0a0,!=4.0.0a1->gcsfs) (2.4.3)\n",
      "Requirement already satisfied: aiosignal>=1.1.2 in /srv/conda/envs/notebook/lib/python3.12/site-packages (from aiohttp!=4.0.0a0,!=4.0.0a1->gcsfs) (1.3.1)\n",
      "Requirement already satisfied: attrs>=17.3.0 in /srv/conda/envs/notebook/lib/python3.12/site-packages (from aiohttp!=4.0.0a0,!=4.0.0a1->gcsfs) (24.2.0)\n",
      "Requirement already satisfied: frozenlist>=1.1.1 in /srv/conda/envs/notebook/lib/python3.12/site-packages (from aiohttp!=4.0.0a0,!=4.0.0a1->gcsfs) (1.5.0)\n",
      "Requirement already satisfied: multidict<7.0,>=4.5 in /srv/conda/envs/notebook/lib/python3.12/site-packages (from aiohttp!=4.0.0a0,!=4.0.0a1->gcsfs) (6.1.0)\n",
      "Requirement already satisfied: yarl<2.0,>=1.12.0 in /srv/conda/envs/notebook/lib/python3.12/site-packages (from aiohttp!=4.0.0a0,!=4.0.0a1->gcsfs) (1.16.0)\n",
      "Requirement already satisfied: cachetools<6.0,>=2.0.0 in /srv/conda/envs/notebook/lib/python3.12/site-packages (from google-auth>=1.2->gcsfs) (5.5.0)\n",
      "Requirement already satisfied: pyasn1-modules>=0.2.1 in /srv/conda/envs/notebook/lib/python3.12/site-packages (from google-auth>=1.2->gcsfs) (0.4.1)\n",
      "Requirement already satisfied: rsa<5,>=3.1.4 in /srv/conda/envs/notebook/lib/python3.12/site-packages (from google-auth>=1.2->gcsfs) (4.9)\n",
      "Requirement already satisfied: requests-oauthlib>=0.7.0 in /srv/conda/envs/notebook/lib/python3.12/site-packages (from google-auth-oauthlib->gcsfs) (2.0.0)\n",
      "Requirement already satisfied: google-api-core<3.0.0dev,>=2.15.0 in /srv/conda/envs/notebook/lib/python3.12/site-packages (from google-cloud-storage->gcsfs) (2.22.0)\n",
      "Requirement already satisfied: google-cloud-core<3.0dev,>=2.3.0 in /srv/conda/envs/notebook/lib/python3.12/site-packages (from google-cloud-storage->gcsfs) (2.4.1)\n",
      "Requirement already satisfied: google-resumable-media>=2.7.2 in /srv/conda/envs/notebook/lib/python3.12/site-packages (from google-cloud-storage->gcsfs) (2.7.2)\n",
      "Requirement already satisfied: google-crc32c<2.0dev,>=1.0 in /srv/conda/envs/notebook/lib/python3.12/site-packages (from google-cloud-storage->gcsfs) (1.1.2)\n",
      "Requirement already satisfied: charset-normalizer<4,>=2 in /srv/conda/envs/notebook/lib/python3.12/site-packages (from requests->gcsfs) (3.4.0)\n",
      "Requirement already satisfied: idna<4,>=2.5 in /srv/conda/envs/notebook/lib/python3.12/site-packages (from requests->gcsfs) (3.10)\n",
      "Requirement already satisfied: urllib3<3,>=1.21.1 in /srv/conda/envs/notebook/lib/python3.12/site-packages (from requests->gcsfs) (1.26.19)\n",
      "Requirement already satisfied: certifi>=2017.4.17 in /srv/conda/envs/notebook/lib/python3.12/site-packages (from requests->gcsfs) (2024.8.30)\n",
      "Requirement already satisfied: googleapis-common-protos<2.0.dev0,>=1.56.2 in /srv/conda/envs/notebook/lib/python3.12/site-packages (from google-api-core<3.0.0dev,>=2.15.0->google-cloud-storage->gcsfs) (1.65.0)\n",
      "Requirement already satisfied: protobuf!=3.20.0,!=3.20.1,!=4.21.0,!=4.21.1,!=4.21.2,!=4.21.3,!=4.21.4,!=4.21.5,<6.0.0.dev0,>=3.19.5 in /srv/conda/envs/notebook/lib/python3.12/site-packages (from google-api-core<3.0.0dev,>=2.15.0->google-cloud-storage->gcsfs) (4.25.3)\n",
      "Requirement already satisfied: proto-plus<2.0.0dev,>=1.22.3 in /srv/conda/envs/notebook/lib/python3.12/site-packages (from google-api-core<3.0.0dev,>=2.15.0->google-cloud-storage->gcsfs) (1.25.0)\n",
      "Requirement already satisfied: cffi>=1.0.0 in /srv/conda/envs/notebook/lib/python3.12/site-packages (from google-crc32c<2.0dev,>=1.0->google-cloud-storage->gcsfs) (1.17.1)\n",
      "Requirement already satisfied: pyasn1<0.7.0,>=0.4.6 in /srv/conda/envs/notebook/lib/python3.12/site-packages (from pyasn1-modules>=0.2.1->google-auth>=1.2->gcsfs) (0.6.1)\n",
      "Requirement already satisfied: oauthlib>=3.0.0 in /srv/conda/envs/notebook/lib/python3.12/site-packages (from requests-oauthlib>=0.7.0->google-auth-oauthlib->gcsfs) (3.2.2)\n",
      "Requirement already satisfied: propcache>=0.2.0 in /srv/conda/envs/notebook/lib/python3.12/site-packages (from yarl<2.0,>=1.12.0->aiohttp!=4.0.0a0,!=4.0.0a1->gcsfs) (0.2.0)\n",
      "Requirement already satisfied: pycparser in /srv/conda/envs/notebook/lib/python3.12/site-packages (from cffi>=1.0.0->google-crc32c<2.0dev,>=1.0->google-cloud-storage->gcsfs) (2.22)\n"
     ]
    }
   ],
   "source": [
    "!pip install gcsfs"
   ]
  },
  {
   "cell_type": "code",
   "execution_count": 8,
   "id": "25211bf6-e9f2-477b-816a-40ee46931b8a",
   "metadata": {},
   "outputs": [
    {
     "name": "stdout",
     "output_type": "stream",
     "text": [
      "Zarr uploaded to GCS!\n"
     ]
    }
   ],
   "source": [
    "# Auth for GCS\n",
    "import gcsfs\n",
    "fs = gcsfs.GCSFileSystem(token=\"/home/jovyan/.config/gcloud/application_default_credentials.json\")\n",
    "zarr_path = \"gcs://nmfs_odp_nwfsc/CB/mind_the_chl_gap/unet_tutorial/\"\n",
    "zarr_stdized.to_zarr(\n",
    "    zarr_path,\n",
    "    storage_options={\"token\": \"/home/jovyan/.config/gcloud/application_default_credentials.json\"},\n",
    "    mode=\"w\",\n",
    "    consolidated=True\n",
    ")\n",
    "print(\"Zarr uploaded to GCS!\")"
   ]
  },
  {
   "cell_type": "code",
   "execution_count": 9,
   "id": "97036b93-1029-494e-bef8-91212a59ba34",
   "metadata": {},
   "outputs": [
    {
     "data": {
      "text/plain": [
       "1"
      ]
     },
     "execution_count": 9,
     "metadata": {},
     "output_type": "execute_result"
    }
   ],
   "source": [
    "1"
   ]
  },
  {
   "cell_type": "code",
   "execution_count": null,
   "id": "31b2c3fa-4062-42b2-8276-8259cd8409cf",
   "metadata": {},
   "outputs": [],
   "source": []
  }
 ],
 "metadata": {
  "kernelspec": {
   "display_name": "Python 3 (ipykernel)",
   "language": "python",
   "name": "python3"
  },
  "language_info": {
   "codemirror_mode": {
    "name": "ipython",
    "version": 3
   },
   "file_extension": ".py",
   "mimetype": "text/x-python",
   "name": "python",
   "nbconvert_exporter": "python",
   "pygments_lexer": "ipython3",
   "version": "3.12.7"
  }
 },
 "nbformat": 4,
 "nbformat_minor": 5
}
